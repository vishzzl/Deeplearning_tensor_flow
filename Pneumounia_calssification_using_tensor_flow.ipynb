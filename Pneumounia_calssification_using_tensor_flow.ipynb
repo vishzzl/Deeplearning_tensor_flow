{
  "nbformat": 4,
  "nbformat_minor": 0,
  "metadata": {
    "colab": {
      "name": "Untitled0.ipynb",
      "provenance": [],
      "authorship_tag": "ABX9TyMLgZ2AxFu9tlHrEAzA+Kmp",
      "include_colab_link": true
    },
    "kernelspec": {
      "name": "python3",
      "display_name": "Python 3"
    }
  },
  "cells": [
    {
      "cell_type": "markdown",
      "metadata": {
        "id": "view-in-github",
        "colab_type": "text"
      },
      "source": [
        "<a href=\"https://colab.research.google.com/github/vishzzl/Deeplearning_tensor_flow/blob/master/Pneumounia_calssification_using_tensor_flow.ipynb\" target=\"_parent\"><img src=\"https://colab.research.google.com/assets/colab-badge.svg\" alt=\"Open In Colab\"/></a>"
      ]
    },
    {
      "cell_type": "code",
      "metadata": {
        "id": "CyonOPcsmEI6",
        "colab_type": "code",
        "colab": {
          "base_uri": "https://localhost:8080/",
          "height": 34
        },
        "outputId": "e8df04e2-9bd9-4308-a76c-b4c259166f77"
      },
      "source": [
        "import kaggle"
      ],
      "execution_count": 4,
      "outputs": [
        {
          "output_type": "stream",
          "text": [
            "Warning: Your Kaggle API key is readable by other users on this system! To fix this, you can run 'chmod 600 /root/.kaggle/kaggle.json'\n"
          ],
          "name": "stdout"
        }
      ]
    },
    {
      "cell_type": "code",
      "metadata": {
        "id": "B21AhyGOmSP1",
        "colab_type": "code",
        "colab": {
          "base_uri": "https://localhost:8080/",
          "height": 68
        },
        "outputId": "5fef726b-709a-48ba-a1d9-6ee8970cfc4f"
      },
      "source": [
        "! kaggle datasets download -d paultimothymooney/chest-xray-pneumonia --unzip"
      ],
      "execution_count": 7,
      "outputs": [
        {
          "output_type": "stream",
          "text": [
            "Downloading chest-xray-pneumonia.zip to /content\n",
            "100% 2.28G/2.29G [00:40<00:00, 64.3MB/s]\n",
            "100% 2.29G/2.29G [00:40<00:00, 60.1MB/s]\n"
          ],
          "name": "stdout"
        }
      ]
    },
    {
      "cell_type": "code",
      "metadata": {
        "id": "yGKENfjbRllM",
        "colab_type": "code",
        "colab": {
          "base_uri": "https://localhost:8080/",
          "height": 68
        },
        "outputId": "41edcd9f-c435-4cb1-8a2c-7a20d646c010"
      },
      "source": [
        "import os\n",
        "training_data=r\"/content/chest_xray/train\"\n",
        "normal_images=len(os.listdir('/content/chest_xray/train/NORMAL'))\n",
        "pneumonia_images=len(os.listdir('/content/chest_xray/train/PNEUMONIA'))\n",
        "total_training_images=normal_images+pneumonia_images\n",
        "print(\"Normal chest X-ray\" ,normal_images)\n",
        "print('infected chest X-ray',pneumonia_images)\n",
        "print(\"total number of training images\",total_training_images)"
      ],
      "execution_count": 14,
      "outputs": [
        {
          "output_type": "stream",
          "text": [
            "Normal chest X-ray 1341\n",
            "infected chest X-ray 3875\n",
            "total number of training images 5216\n"
          ],
          "name": "stdout"
        }
      ]
    },
    {
      "cell_type": "code",
      "metadata": {
        "id": "lhbfiHnKQUrv",
        "colab_type": "code",
        "colab": {}
      },
      "source": [
        "import tensorflow as tf\n",
        "from tensorflow.keras.preprocessing.image import ImageDataGenerator\n",
        "\n",
        "Train_datagen=ImageDataGenerator()"
      ],
      "execution_count": null,
      "outputs": []
    }
  ]
}